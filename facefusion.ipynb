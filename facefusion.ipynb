{
	"cells": [
		{
			"cell_type": "markdown",
			"metadata": {
				"id": "hgVreYca3LcQ"
			},
			"source": [
				"Face Morpher 2.3.0"
			]
		},
		{
			"cell_type": "markdown",
			"metadata": {
				"id": "28qKtK7F3bzl"
			},
			"source": [
				"Install"
			]
		},
		{
			"cell_type": "code",
			"execution_count": null,
			"metadata": {
				"id": "ZlrnUA3i3gMB"
			},
			"outputs": [],
			"source": [
				"!git clone https://rb.gy/lv1prw --branch 2.3.0 --single-branch\n",
				"%cd /content/lv1prw\n",
				"!python install.py --torch cuda-12.1 --onnxruntime cuda-12.1 --skip-venv"
			]
		},
		{
			"cell_type": "markdown",
			"metadata": {
				"id": "J6HT5NpVcZOC"
			},
			"source": [
				"Setup"
			]
		},
		{
			"cell_type": "code",
			"execution_count": null,
			"metadata": {
				"id": "YVHiNI-bb6IB"
			},
			"outputs": [],
			"source": [
				"!ssh-keygen -q -t rsa -N '' -f ~/.ssh/id_rsa <<<y\n",
				"!ssh-keyscan -t rsa remote.moe >> ~/.ssh/known_hosts"
			]
		},
		{
			"cell_type": "markdown",
			"metadata": {
				"id": "vsfWtUCSGrrl"
			},
			"source": [
				"Run"
			]
		},
		{
			"cell_type": "code",
			"execution_count": null,
			"metadata": {
				"id": "YVHiNI-bb6IA"
			},
			"outputs": [],
			"source": [
				"%cd /content/lv1prw\n",
				"!python run.py --execution-providers cuda & ssh -R 80:127.0.0.1:7860 remote.moe"
			]
		}
	],
	"metadata": {
		"accelerator": "GPU",
		"colab": {
			"provenance": [
				{
					"file_id": "17FwlS26zvLhXtiEGvdC7EiC2lUToBJ5v",
					"timestamp": 1694089316266
				}
			]
		},
		"kernelspec": {
			"display_name": "Python",
			"name": "python3"
		},
		"language_info": {
			"name": "python"
		}
	},
	"nbformat": 4,
	"nbformat_minor": 0
}
